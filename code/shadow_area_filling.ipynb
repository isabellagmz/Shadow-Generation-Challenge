{
 "cells": [
  {
   "cell_type": "markdown",
   "id": "f5817af8",
   "metadata": {},
   "source": [
    "# Shadow Area Filling Stage\n",
    "\n",
    "In this notebook we will be completing the second half of the Shadow Generation for Composite Image in Real-World Scenes paper. \n",
    "\n",
    "This half consists of using the generated Shadow masks from the previous half in order to fill in the predicted area on Ic to create a new image with full shadows.\n",
    "\n",
    "Steps:\n",
    "1. Precompute shadow parameters before training using linear regression\n",
    "2. Create Ep to estimate shadow parameters\n",
    "3. Make Ic dark\n",
    "4. Create encoder Em and decoder Dm to finish Gm generator\n",
    "5. Generate alpha matte\n",
    "6. Use alpha matte and Ic dark to make Ig~\n",
    "7. Use the conditional discriminator D for optimization"
   ]
  },
  {
   "cell_type": "markdown",
   "id": "8d2b0053",
   "metadata": {},
   "source": [
    "## Setup\n",
    "\n",
    "Initialize cuda and import libraries. In this project we will be using PyTorch."
   ]
  },
  {
   "cell_type": "code",
   "execution_count": 1,
   "id": "4b66f6e6",
   "metadata": {},
   "outputs": [
    {
     "name": "stdout",
     "output_type": "stream",
     "text": [
      "using device: cuda\n"
     ]
    }
   ],
   "source": [
    "import torch\n",
    "import torch.nn as nn\n",
    "import torch.nn.functional as F\n",
    "import torch.optim as optim\n",
    "from torch.utils.data import DataLoader\n",
    "from torch.utils.data import sampler\n",
    "import torch.nn.init as init\n",
    "\n",
    "import torchvision.datasets as dset\n",
    "import torchvision.transforms as T\n",
    "import torchvision.utils as vutils\n",
    "\n",
    "from PIL import Image\n",
    "import os\n",
    "import random\n",
    "\n",
    "import numpy as np\n",
    "import matplotlib.pyplot as plt\n",
    "import cv2\n",
    "import math\n",
    "\n",
    "%load_ext autoreload\n",
    "%autoreload 2\n",
    "\n",
    "# setup\n",
    "device = None\n",
    "\n",
    "if torch.cuda.is_available():\n",
    "    device = torch.device('cuda')\n",
    "else:\n",
    "    device = torch.device('cpu')\n",
    "    \n",
    "print('using device:', device)"
   ]
  },
  {
   "cell_type": "markdown",
   "id": "00dd7b01",
   "metadata": {},
   "source": [
    "## Dataloader\n",
    "\n",
    "The data we are going to use are the shadow prediction masks we made in the previous half of the work."
   ]
  },
  {
   "cell_type": "code",
   "execution_count": 2,
   "id": "dfc113a3",
   "metadata": {},
   "outputs": [],
   "source": [
    "def numerical_sort(path):\n",
    "    return int(os.path.basename(path)[:-4])"
   ]
  },
  {
   "cell_type": "code",
   "execution_count": 3,
   "id": "ae3f2df6",
   "metadata": {},
   "outputs": [
    {
     "name": "stdout",
     "output_type": "stream",
     "text": [
      "11509\n",
      "581\n",
      "1000\n",
      "581\n"
     ]
    }
   ],
   "source": [
    "from torch.utils.data import Dataset\n",
    "\n",
    "class CustomDataset(Dataset):\n",
    "    def __init__(self, root_dir, sort=None, transform=None):\n",
    "        self.root_dir = root_dir\n",
    "        self.transform = transform\n",
    "        self.imgs = os.listdir(root_dir)\n",
    "        self.sort = sort\n",
    "        if self.sort is not None:\n",
    "            self.image_paths = sorted(os.listdir(root_dir), key=numerical_sort)\n",
    "    \n",
    "    def __len__(self):\n",
    "        return len(self.imgs)\n",
    "    \n",
    "    def __getitem__(self, idx):\n",
    "        if self.sort is not None:\n",
    "            img_path = os.path.join(self.root_dir, self.image_paths[idx])\n",
    "        else:\n",
    "            img_path = os.path.join(self.root_dir, self.imgs[idx])\n",
    "        image = Image.open(img_path).convert(\"RGB\")  # Convert to color\n",
    "        \n",
    "        if self.transform is not None:\n",
    "            image = self.transform(image)\n",
    "\n",
    "        return image\n",
    "\n",
    "transform = T.Compose([T.ToTensor()]) # can add more if necessary\n",
    "    \n",
    "# Batch size during training\n",
    "batch_size = 1\n",
    "\n",
    "path_train = 'DESOBA_DATASET/TrainTestVisualization/train'\n",
    "path_test = 'DESOBA_DATASET/TrainTestVisualization/test_bos'\n",
    "\n",
    "path_mask_test = 'DESOBA_DATASET/Mfs_test'\n",
    "path_mask_train = 'DESOBA_DATASET/Mfs_train'\n",
    "\n",
    "dataset = CustomDataset(path_train, transform=transform)\n",
    "dataset_test = CustomDataset(path_test, transform=transform)\n",
    "dataset_mask_train = CustomDataset(path_mask_train, sort=True, transform=transform)\n",
    "dataset_mask_test = CustomDataset(path_mask_test, sort=True, transform=transform)\n",
    "\n",
    "\n",
    "# Create the dataloaders\n",
    "dataloader = torch.utils.data.DataLoader(dataset, batch_size=batch_size) # training images\n",
    "dataloader_test = torch.utils.data.DataLoader(dataset_test, batch_size=batch_size) # testing images\n",
    "dataloader_mask_train = torch.utils.data.DataLoader(dataset_mask_train,\\\n",
    "                                                    batch_size=batch_size, shuffle=False) # mask training image\n",
    "dataloader_mask_test = torch.utils.data.DataLoader(dataset_mask_test,\\\n",
    "                                                   batch_size=batch_size, shuffle=False) # mask testing image\n",
    "\n",
    "\n",
    "# size of my training set\n",
    "dataset_size = dataset.__len__() # size to test\n",
    "dataset_test_size = dataset_test.__len__() # size to test\n",
    "\n",
    "print(dataset_size)\n",
    "print(dataset_test_size)\n",
    "print(dataset_mask_train.__len__()) # only kept 1000 for sake of time\n",
    "print(dataset_mask_test.__len__())"
   ]
  },
  {
   "cell_type": "markdown",
   "id": "eaa3c489",
   "metadata": {},
   "source": [
    "## Input Handling Function\n",
    "\n",
    "This step is necessary to separate the Ic, Mbos, Mfo from the training/testing image pairs. The input to the foreground encoder needs the composite image Ic, and the foreground object mask Mfo. The input to the background encoder is Ic, and the background object and shadow mask Mbos.\n",
    "\n",
    "In order to get Ic and Mbos, Mfo, we need to consider the length of the training image itself. Each image section is 256x256 pixels in length with a total training image size of 1536 pixels. This means that there are 6 sections in each training image. The first 256x256 pixels correspond to Ic, the second section corresponds to the original image, the third is Mfo, the fourth corresponds to the mask of the foreground object shadow as ground truth, the fifth is Mbos, and the sixth is the mask of the background object shadow.\n",
    "\n",
    "In the input_sectioning function we will be extracting all the parts from each training image to use individually in the training loop. The foreground Encoder requires Mfo and Ic, and the background encoder requires Mbos and Ic."
   ]
  },
  {
   "cell_type": "code",
   "execution_count": 4,
   "id": "4ac5aa89",
   "metadata": {},
   "outputs": [],
   "source": [
    "# input management\n",
    "def input_sectioning(whole_image):\n",
    "    original_image = whole_image[:, 256:512]\n",
    "    Ic = whole_image[:, 0:256] # composite image\n",
    "    Mfo = whole_image[:, 512:768] # foreground object mask\n",
    "    Mfo_shadow = whole_image[:, 768:1024] # foreground object shadow mask for ground truth    \n",
    "    \n",
    "    Mbo = whole_image[:, 1024:1280] # background object mask\n",
    "    Mbo_shadow = whole_image[:, 1280:1536] # background object shadow mask\n",
    "    Mbos = Mbo + Mbo_shadow # background object-shadow pair\n",
    "    \n",
    "    # changing the images to be 256x256x1\n",
    "    # Take the maximum along the channel dimension to collapse it to a single channel\n",
    "    Mbos = torch.max(Mbos, dim=2)[0]\n",
    "    Mfo = torch.max(Mfo, dim=2)[0]\n",
    "    Mfo_shadow = torch.max(Mfo_shadow, dim=2)[0]\n",
    "\n",
    "    # Reshape the tensor to have the shape 256x256x1\n",
    "    Mbos = Mbos.unsqueeze(dim=2)\n",
    "    Mfo = Mfo.unsqueeze(dim=2)\n",
    "    Mfo_shadow = Mfo_shadow.unsqueeze(dim=2)\n",
    "\n",
    "    return original_image, Ic, Mfo, Mbos, Mfo_shadow"
   ]
  },
  {
   "cell_type": "markdown",
   "id": "eb29b045",
   "metadata": {},
   "source": [
    "## Weight Initialization Function"
   ]
  },
  {
   "cell_type": "code",
   "execution_count": 5,
   "id": "8780255d",
   "metadata": {},
   "outputs": [],
   "source": [
    "# custom weights initialization called on encoders, to test various weight initializations\n",
    "\n",
    "def weights_init(net, init_type='normal', gain=0.02):\n",
    "    def init_func(m):\n",
    "        classname = m.__class__.__name__\n",
    "        if hasattr(m, 'weight') and (classname.find('Conv') != -1 or classname.find('Linear') != -1):\n",
    "            if init_type == 'normal':\n",
    "                init.normal_(m.weight.data, 0.0, gain)\n",
    "            elif init_type == 'xavier':\n",
    "                init.xavier_normal_(m.weight.data, gain=gain)\n",
    "            elif init_type == 'kaiming':\n",
    "                init.kaiming_normal_(m.weight.data, a=0, mode='fan_in')\n",
    "            elif init_type == 'orthogonal':\n",
    "                init.orthogonal_(m.weight.data, gain=gain)\n",
    "            else:\n",
    "                raise NotImplementedError('initialization method [%s] is not implemented' % init_type)\n",
    "            if hasattr(m, 'bias') and m.bias is not None:\n",
    "                init.constant_(m.bias.data, 0.0)\n",
    "        elif classname.find('BatchNorm2d') != -1:\n",
    "            init.normal_(m.weight.data, 1.0, gain)\n",
    "            init.constant_(m.bias.data, 0.0)\n",
    "\n",
    "    #print('initialize network with %s' % init_type)\n",
    "    net.apply(init_func)"
   ]
  },
  {
   "cell_type": "markdown",
   "id": "140bc655",
   "metadata": {},
   "source": [
    "## Flatten Function"
   ]
  },
  {
   "cell_type": "code",
   "execution_count": 6,
   "id": "dbd0b49c",
   "metadata": {},
   "outputs": [],
   "source": [
    "def flatten(x):\n",
    "    N = x.shape[0] # read in N, C, H, W\n",
    "    return x.view(N, -1)  # \"flatten\" the C * H * W values into a single vector per image"
   ]
  },
  {
   "cell_type": "markdown",
   "id": "07578067",
   "metadata": {},
   "source": [
    "## Save/Load Parameters Function"
   ]
  },
  {
   "cell_type": "code",
   "execution_count": 16,
   "id": "ee81bc2c",
   "metadata": {},
   "outputs": [],
   "source": [
    "# Save the shadow parameters list to a file using pickle\n",
    "def save_shadow_parameters_to_file(filename, shadow_parameters_list):\n",
    "    with open(filename, 'wb') as f:\n",
    "        pickle.dump(shadow_parameters_list, f)\n",
    "        \n",
    "# Load the shadow parameters list from a file using pickle\n",
    "def load_shadow_parameters_from_file(filename):\n",
    "    with open(filename, 'rb') as f:\n",
    "        shadow_parameters_list = pickle.load(f)\n",
    "    return shadow_parameters_list\n",
    "\n",
    "def load_shadow_parameters():\n",
    "    return load_shadow_parameters_from_file('shadow_parameters.pkl')\n",
    "\n",
    "# Save the predicted parameters list to a file using pickle\n",
    "def save_predicted_parameters_to_file(filename, predicted_parameters_list):\n",
    "    with open(filename, 'wb') as f:\n",
    "        pickle.dump(predicted_parameters_list, f)\n",
    "        \n",
    "# Load the predicted parameters list from a file using pickle\n",
    "def load_predicted_parameters_from_file(filename):\n",
    "    with open(filename, 'rb') as f:\n",
    "        predicted_parameters_list = pickle.load(f)\n",
    "    return predicted_parameters_list\n",
    "\n",
    "def load_predicted_parameters():\n",
    "    return load_predicted_parameters_from_file('predicted_shadow_parameters.pkl')"
   ]
  },
  {
   "cell_type": "markdown",
   "id": "7792a590",
   "metadata": {},
   "source": [
    "# Part 1: Precompute the Ground Truth Shadow Parameters\n",
    "\n",
    "In this section we will compute the ground truth shadow parameters w_dark and b_dark using linear regression. These will then be used to estimate the testing shadow parameters which are estimated by Ep. We will be limiting ourselves to 1000 parameters for the sake of time."
   ]
  },
  {
   "cell_type": "code",
   "execution_count": 8,
   "id": "f6641bd2",
   "metadata": {},
   "outputs": [],
   "source": [
    "from sklearn.linear_model import LinearRegression\n",
    "\n",
    "def extract_features(original_img, composite_img, foreground_shadow_mask):\n",
    "    \n",
    "    foreground_shadow_mask = foreground_shadow_mask.bool()\n",
    "    foreground_shadow_mask = foreground_shadow_mask.squeeze()\n",
    "    \n",
    "    # Extract the pixel values from the composite image in the foreground shadow area\n",
    "    composite_img_R = composite_img[:, :, 0]\n",
    "    composite_img_G = composite_img[:, :, 1]\n",
    "    composite_img_B = composite_img[:, :, 2]\n",
    "    \n",
    "    Xr = composite_img_R[foreground_shadow_mask]\n",
    "    Xb = composite_img_G[foreground_shadow_mask]\n",
    "    Xg = composite_img_B[foreground_shadow_mask]\n",
    "\n",
    "    # Extract the corresponding pixel values from the original image in the foreground shadow area\n",
    "    original_img_R = composite_img[:, :, 0]\n",
    "    original_img_G = composite_img[:, :, 1]\n",
    "    original_img_B = composite_img[:, :, 2]\n",
    "    \n",
    "    Yr = original_img_R[foreground_shadow_mask]\n",
    "    Yg = original_img_G[foreground_shadow_mask]\n",
    "    Yb = original_img_B[foreground_shadow_mask]\n",
    "\n",
    "    return Xr, Xg, Xb, Yr, Yg, Yb\n",
    "\n",
    "def find_shadow_parameters(X, Y):\n",
    "    # Create a linear regression model\n",
    "    model = nn.Linear(1, 1)  # We use 1 input feature and 1 output feature for simplicity\n",
    "\n",
    "    # Define the loss function and optimizer\n",
    "    criterion = nn.MSELoss()\n",
    "    optimizer = optim.SGD(model.parameters(), lr=0.01)\n",
    "\n",
    "    # Training loop\n",
    "    num_epochs = 50\n",
    "    for epoch in range(num_epochs):\n",
    "        optimizer.zero_grad()\n",
    "        output = model(X.reshape(-1, 1))\n",
    "        loss = criterion(output, Y.reshape(-1, 1))\n",
    "        loss.backward()\n",
    "        optimizer.step()\n",
    "\n",
    "    # Get the optimal regression coefficients (w_dark, b_dark)\n",
    "    w_dark = model.weight.item()\n",
    "    b_dark = model.bias.item()\n",
    "\n",
    "    return w_dark, b_dark\n",
    "\n",
    "def get_shadow_parameters():\n",
    "    shadow_parameters_list = []\n",
    "    # goes through training data\n",
    "    for i, data in enumerate(dataloader, 0): \n",
    "        if i == 1000:\n",
    "            break\n",
    "        object_pair = data[0].permute(1, 2, 0)\n",
    "        original_img, Ic, Mfo, Mbos, Mfo_shadow = input_sectioning(object_pair)\n",
    "        \n",
    "        Xr, Xg, Xb, Yr, Yg, Yb = extract_features(original_img, Ic, Mfo_shadow)\n",
    "        \n",
    "        w_dark_r, b_dark_r = find_shadow_parameters(Xr, Yr)\n",
    "        w_dark_g, b_dark_g = find_shadow_parameters(Xg, Yg)\n",
    "        w_dark_b, b_dark_b = find_shadow_parameters(Xb, Yb)\n",
    "\n",
    "        shadow_parameters_list.append([w_dark_r, w_dark_b, w_dark_g, b_dark_r, b_dark_g, b_dark_g])\n",
    "        \n",
    "    # goes through test data\n",
    "    for i, data in enumerate(dataloader_test, 0): \n",
    "        if i == 1000:\n",
    "            break\n",
    "        object_pair = data[0].permute(1, 2, 0)\n",
    "        original_img, Ic, Mfo, Mbos, Mfo_shadow = input_sectioning(object_pair)\n",
    "        \n",
    "        Xr, Xg, Xb, Yr, Yg, Yb = extract_features(original_img, Ic, Mfo_shadow)\n",
    "        \n",
    "        w_dark_r, b_dark_r = find_shadow_parameters(Xr, Yr)\n",
    "        w_dark_g, b_dark_g = find_shadow_parameters(Xg, Yg)\n",
    "        w_dark_b, b_dark_b = find_shadow_parameters(Xb, Yb)\n",
    "        \n",
    "        shadow_parameters_list.append([w_dark_r, w_dark_b, w_dark_g, b_dark_r, b_dark_g, b_dark_g])\n",
    "    \n",
    "    return shadow_parameters_list\n"
   ]
  },
  {
   "cell_type": "code",
   "execution_count": 9,
   "id": "ec297167",
   "metadata": {},
   "outputs": [],
   "source": [
    "'''\n",
    "The shadow parameters are stored in this format [w,b]. These represent the ground truth parameters.\n",
    "The first 1000 are from the training data and the rest are from the testing data.\n",
    "'''\n",
    "shadow_parameters_list = get_shadow_parameters() "
   ]
  },
  {
   "cell_type": "code",
   "execution_count": 10,
   "id": "2232ecf0",
   "metadata": {},
   "outputs": [
    {
     "name": "stdout",
     "output_type": "stream",
     "text": [
      "[-0.14853310585021973, -0.8068510890007019, 0.6921922564506531, 0.3840183913707733, 0.23024554550647736, 0.23024554550647736]\n"
     ]
    }
   ],
   "source": [
    "print(shadow_parameters_list[0])"
   ]
  },
  {
   "cell_type": "code",
   "execution_count": 17,
   "id": "abafe3a1",
   "metadata": {},
   "outputs": [
    {
     "name": "stdout",
     "output_type": "stream",
     "text": [
      "[0.6982265710830688, 1.0481832027435303, 0.05540766939520836, 0.3738528788089752, 0.426186203956604, 0.426186203956604]\n"
     ]
    }
   ],
   "source": [
    "import pickle\n",
    "\n",
    "#save_parameters_to_file('shadow_parameters.pkl', shadow_parameters_list)\n",
    "test = load_shadow_parameters()\n",
    "print(test[0])"
   ]
  },
  {
   "cell_type": "markdown",
   "id": "f9f9b146",
   "metadata": {},
   "source": [
    "# Part 2: Create Ep\n",
    "\n",
    "Ep is an encoder that takes Ic and Mfs (foreground shadow mask) as inputs and outputs the shadow parameters w_dark and b_dark. The loss function of the Ep training will be using the ground truth that is precomputed using linear regression before the training."
   ]
  },
  {
   "cell_type": "code",
   "execution_count": 11,
   "id": "15161b09",
   "metadata": {},
   "outputs": [],
   "source": [
    "# Shared downsampling block\n",
    "class DBlkp(nn.Module):\n",
    "    def __init__(self, in_channels, out_channels):\n",
    "        super().__init__()\n",
    "        self.conv = nn.Conv2d(in_channels, out_channels, kernel_size=3, padding=1)\n",
    "        self.relu = nn.ReLU(inplace=True)\n",
    "        self.max_pool = nn.MaxPool2d(kernel_size=2, stride=2)\n",
    "\n",
    "    def forward(self, x):\n",
    "        x = self.conv(x)\n",
    "        x = self.relu(x)\n",
    "        x = self.max_pool(x)\n",
    "        return x\n",
    "\n",
    "# Foreground encoder (parameter sharing)\n",
    "class EncoderP(nn.Module):\n",
    "    def __init__(self):\n",
    "        super().__init__() # input is 256x256x32\n",
    "        # Shared downsampling blocks\n",
    "        self.down_block1 = DBlkp(in_channels=4, out_channels=32)\n",
    "        self.down_block2 = DBlkp(in_channels=32, out_channels=64)\n",
    "        self.down_block3 = DBlkp(in_channels=64, out_channels=128)\n",
    "        self.down_block4 = DBlkp(in_channels=128, out_channels=256)\n",
    "        self.gap = nn.AdaptiveAvgPool2d((1, 1))  # Output size will be 1x1\n",
    "        self.fc = nn.Linear(256, 6)\n",
    "        \n",
    "    def forward(self, x):\n",
    "        skip1 = self.down_block1(x)\n",
    "        skip2 = self.down_block2(skip1)\n",
    "        skip3 = self.down_block3(skip2)\n",
    "        x = self.down_block4(skip3)\n",
    "        x = self.gap(x)\n",
    "        x = flatten(x)\n",
    "        x = self.fc(x)\n",
    "        \n",
    "        return x"
   ]
  },
  {
   "cell_type": "code",
   "execution_count": 12,
   "id": "7180a64a",
   "metadata": {},
   "outputs": [
    {
     "name": "stdout",
     "output_type": "stream",
     "text": [
      "torch.Size([1, 6])\n"
     ]
    },
    {
     "name": "stderr",
     "output_type": "stream",
     "text": [
      "/opt/conda/lib/python3.9/site-packages/torch/nn/functional.py:718: UserWarning: Named tensors and all their associated APIs are an experimental feature and subject to change. Please do not use them for anything important until they are released as stable. (Triggered internally at  /pytorch/c10/core/TensorImpl.h:1156.)\n",
      "  return torch.max_pool2d(input, kernel_size, stride, padding, dilation, ceil_mode)\n"
     ]
    }
   ],
   "source": [
    "# testing model for output size\n",
    "data = torch.randn((1,4,256,256)).to(device)\n",
    "u = EncoderP().to(device)\n",
    "out = u(data)\n",
    "print(out.shape)"
   ]
  },
  {
   "cell_type": "markdown",
   "id": "6eaae884",
   "metadata": {},
   "source": [
    "## Initialize the Ep Model"
   ]
  },
  {
   "cell_type": "code",
   "execution_count": 13,
   "id": "fd247de9",
   "metadata": {},
   "outputs": [
    {
     "data": {
      "text/plain": [
       "EncoderP(\n",
       "  (down_block1): DBlkp(\n",
       "    (conv): Conv2d(4, 32, kernel_size=(3, 3), stride=(1, 1), padding=(1, 1))\n",
       "    (relu): ReLU(inplace=True)\n",
       "    (max_pool): MaxPool2d(kernel_size=2, stride=2, padding=0, dilation=1, ceil_mode=False)\n",
       "  )\n",
       "  (down_block2): DBlkp(\n",
       "    (conv): Conv2d(32, 64, kernel_size=(3, 3), stride=(1, 1), padding=(1, 1))\n",
       "    (relu): ReLU(inplace=True)\n",
       "    (max_pool): MaxPool2d(kernel_size=2, stride=2, padding=0, dilation=1, ceil_mode=False)\n",
       "  )\n",
       "  (down_block3): DBlkp(\n",
       "    (conv): Conv2d(64, 128, kernel_size=(3, 3), stride=(1, 1), padding=(1, 1))\n",
       "    (relu): ReLU(inplace=True)\n",
       "    (max_pool): MaxPool2d(kernel_size=2, stride=2, padding=0, dilation=1, ceil_mode=False)\n",
       "  )\n",
       "  (down_block4): DBlkp(\n",
       "    (conv): Conv2d(128, 256, kernel_size=(3, 3), stride=(1, 1), padding=(1, 1))\n",
       "    (relu): ReLU(inplace=True)\n",
       "    (max_pool): MaxPool2d(kernel_size=2, stride=2, padding=0, dilation=1, ceil_mode=False)\n",
       "  )\n",
       "  (gap): AdaptiveAvgPool2d(output_size=(1, 1))\n",
       "  (fc): Linear(in_features=256, out_features=6, bias=True)\n",
       ")"
      ]
     },
     "execution_count": 13,
     "metadata": {},
     "output_type": "execute_result"
    }
   ],
   "source": [
    "# initializing model\n",
    "Ep = EncoderP().to(device)\n",
    "Ep.apply(weights_init)"
   ]
  },
  {
   "cell_type": "markdown",
   "id": "d5e47b8b",
   "metadata": {},
   "source": [
    "# Part 3: Train Ep\n",
    "\n",
    "In this section we train the shadow parameter predictor Ep. This encoder will predict the shadow parameters for the mask that we created in the previous stage."
   ]
  },
  {
   "cell_type": "code",
   "execution_count": 22,
   "id": "21f244f9",
   "metadata": {},
   "outputs": [],
   "source": [
    "mask_train_list = list(dataloader_mask_train)\n",
    "mask_test_list = list(dataloader_mask_test)"
   ]
  },
  {
   "cell_type": "code",
   "execution_count": 55,
   "id": "0a244a48",
   "metadata": {},
   "outputs": [],
   "source": [
    "beta1 = 0.5\n",
    "beta2 = 0.99\n",
    "model_path = 'models/Ep.pth'\n",
    "\n",
    "def train_encoder(model, dataloader, dataloader_test, mask_train_list, mask_test_list,\\\n",
    "                  ground_truth, epochs=1, learning_rate=0.0002):\n",
    "    total_train_steps = len(mask_train_list)\n",
    "    total_test_steps = len(mask_test_list)\n",
    "    predicted_shadow_parameters = []\n",
    "    \n",
    "    criterion = nn.MSELoss()\n",
    "    optimizer = optim.Adam(Ep.parameters(), lr=learning_rate, betas=(beta1, beta2))\n",
    "    \n",
    "    # Start the training cycle\n",
    "    print('Start training...')\n",
    "\n",
    "    for epoch in range(epochs):\n",
    "        model.train()  # put model to training mode\n",
    "        training_loss = 0.0\n",
    "        for i, data in enumerate(dataloader, 0): \n",
    "            if i == 1000:\n",
    "                break\n",
    "            \n",
    "            ### fixing input size and shape\n",
    "            object_pair = data[0].permute(1, 2, 0)\n",
    "            original_img, Ic, Mfo, Mbos, Mfo_shadow = input_sectioning(object_pair)\n",
    "            \n",
    "            # fix the shapes for concatenation\n",
    "            Mfs_pred = torch.mean(mask_train_list[i], dim=1, keepdim=True)\n",
    "            Ic = Ic.permute(2, 0, 1).unsqueeze(0)\n",
    "            \n",
    "            # concatenate Ic and Mfo and Ic and Mbos\n",
    "            inputs = torch.cat([Ic, Mfs_pred], dim=1).to(device) # 1x4x256x256\n",
    "            \n",
    "            optimizer.zero_grad()\n",
    "            predicted_params = Ep(inputs)\n",
    "            \n",
    "            predicted_shadow_parameters.append(predicted_params)\n",
    "            ground_truth[i] = torch.tensor(ground_truth[i]).to(device)\n",
    "            \n",
    "            loss = criterion(predicted_params, ground_truth[i])\n",
    "            loss.backward()\n",
    "            optimizer.step()\n",
    "            \n",
    "            # Output training stats\n",
    "            if i % 100 == 0:\n",
    "                print('[%d/%d]\\tTraining Loss: %.4f'\n",
    "                      % (epoch, epochs, loss.item()))\n",
    "                \n",
    "            training_loss += loss.item()\n",
    "        \n",
    "        # Put the model in eval mode\n",
    "        model.eval()\n",
    "        testing_loss = 0.0\n",
    "        for j, data in enumerate(dataloader_test, 0): \n",
    "            \n",
    "            ### fixing input size and shape\n",
    "            object_pair = data[0].permute(1, 2, 0)\n",
    "            original_img, Ic, Mfo, Mbos, Mfo_shadow = input_sectioning(object_pair)\n",
    "            \n",
    "            # fix the shapes for concatenation\n",
    "            Mfs_pred = torch.mean(mask_test_list[j], dim=1, keepdim=True)\n",
    "            Ic = Ic.permute(2, 0, 1).unsqueeze(0)\n",
    "            \n",
    "            # concatenate Ic and Mfo and Ic and Mbos\n",
    "            inputs = torch.cat([Ic, Mfs_pred], dim=1).to(device) # 1x4x256x256\n",
    "            ground_truth[i+j] = torch.tensor(ground_truth[i+j]).to(device)\n",
    "            \n",
    "            with torch.no_grad():\n",
    "                predicted_params = Ep(inputs)\n",
    "            \n",
    "            predicted_shadow_parameters.append(predicted_params)\n",
    "\n",
    "            loss = criterion(predicted_params, ground_truth[i+j])\n",
    "            \n",
    "            # Output training stats\n",
    "            if j % 50 == 0:\n",
    "                print('[%d/%d]\\tTraining Loss: %.4f'\n",
    "                      % (epoch, epochs, loss.item()))\n",
    "                \n",
    "            testing_loss += loss.item()\n",
    "            \n",
    "        # Save last epoch model\n",
    "        if epoch == epochs-1:\n",
    "            torch.save(model.state_dict(), model_path)\n",
    "            print('Model saved!')\n",
    "        \n",
    "        train_loss = training_loss / total_train_steps\n",
    "        test_loss = testing_loss / total_test_steps\n",
    "        \n",
    "        print(f'\\nEpoch {epoch}, train_loss: {train_loss}, test_loss: {test_loss}')\n",
    "           \n",
    "    return predicted_shadow_parameters, training_loss, testing_loss\n",
    "            "
   ]
  },
  {
   "cell_type": "code",
   "execution_count": 56,
   "id": "82379ff1",
   "metadata": {},
   "outputs": [
    {
     "name": "stdout",
     "output_type": "stream",
     "text": [
      "Start training...\n",
      "[0/1]\tTraining Loss: 0.2298\n"
     ]
    },
    {
     "name": "stderr",
     "output_type": "stream",
     "text": [
      "/tmp/ipykernel_121591/1461049439.py:39: UserWarning: To copy construct from a tensor, it is recommended to use sourceTensor.clone().detach() or sourceTensor.clone().detach().requires_grad_(True), rather than torch.tensor(sourceTensor).\n",
      "  ground_truth[i] = torch.tensor(ground_truth[i]).to(device)\n"
     ]
    },
    {
     "name": "stdout",
     "output_type": "stream",
     "text": [
      "[0/1]\tTraining Loss: 0.2523\n",
      "[0/1]\tTraining Loss: 0.1563\n",
      "[0/1]\tTraining Loss: 0.0708\n",
      "[0/1]\tTraining Loss: 0.1458\n",
      "[0/1]\tTraining Loss: 0.3096\n",
      "[0/1]\tTraining Loss: 0.0304\n",
      "[0/1]\tTraining Loss: 0.1152\n",
      "[0/1]\tTraining Loss: 0.1980\n",
      "[0/1]\tTraining Loss: 0.3648\n"
     ]
    },
    {
     "name": "stderr",
     "output_type": "stream",
     "text": [
      "/tmp/ipykernel_121591/1461049439.py:67: UserWarning: To copy construct from a tensor, it is recommended to use sourceTensor.clone().detach() or sourceTensor.clone().detach().requires_grad_(True), rather than torch.tensor(sourceTensor).\n",
      "  ground_truth[i+j] = torch.tensor(ground_truth[i+j]).to(device)\n"
     ]
    },
    {
     "name": "stdout",
     "output_type": "stream",
     "text": [
      "[0/1]\tTraining Loss: 0.2533\n",
      "[0/1]\tTraining Loss: 0.2623\n",
      "[0/1]\tTraining Loss: 0.2264\n",
      "[0/1]\tTraining Loss: 0.1313\n",
      "[0/1]\tTraining Loss: 0.1127\n",
      "[0/1]\tTraining Loss: 0.2846\n",
      "[0/1]\tTraining Loss: 0.2361\n",
      "[0/1]\tTraining Loss: 0.2753\n",
      "[0/1]\tTraining Loss: 0.3478\n",
      "[0/1]\tTraining Loss: 0.1249\n",
      "[0/1]\tTraining Loss: 0.4159\n",
      "[0/1]\tTraining Loss: 0.3538\n",
      "Model saved!\n",
      "\n",
      "Epoch 0, train_loss: 0.18383824965963141, test_loss: 0.17958422795758805\n"
     ]
    }
   ],
   "source": [
    "predicted_shadow_parameters, training_loss, testing_loss = \\\n",
    "train_encoder(Ep, dataloader, dataloader_test, mask_train_list, mask_test_list,\\\n",
    "              shadow_parameters_list, epochs=1, learning_rate=0.0002)"
   ]
  },
  {
   "cell_type": "code",
   "execution_count": 61,
   "id": "57bf1f77",
   "metadata": {},
   "outputs": [
    {
     "name": "stdout",
     "output_type": "stream",
     "text": [
      "1581\n",
      "tensor([[0.1520, 0.1699, 0.1297, 0.2520, 0.2443, 0.2438]], device='cuda:0',\n",
      "       grad_fn=<AddmmBackward>)\n"
     ]
    }
   ],
   "source": [
    "save_predicted_parameters_to_file('predicted_shadow_parameters.pkl', predicted_shadow_parameters)\n",
    "print(len(predicted_shadow_parameters))\n",
    "print(predicted_shadow_parameters[0])"
   ]
  },
  {
   "cell_type": "code",
   "execution_count": 62,
   "id": "fdbe0024",
   "metadata": {},
   "outputs": [],
   "source": [
    "#predicted_shadow_parameters = load_predicted_parameters()\n",
    "#print(predicted_shadow_parameters[0])"
   ]
  },
  {
   "cell_type": "markdown",
   "id": "01bc2052",
   "metadata": {},
   "source": [
    "# Part 5: Create Ic_dark\n",
    "\n",
    "Here we will use our estimated w_dark, and b_dark to find Ic_dark using Eqn.8 from the paper. This equation is: \n",
    "\n",
    "w_dark(Ic) + b_dark\n",
    "\n",
    "Then we are going to save Ic_dark to the path DESOBA_DATASET/Ic_dark."
   ]
  },
  {
   "cell_type": "code",
   "execution_count": 63,
   "id": "f6a6580e",
   "metadata": {},
   "outputs": [],
   "source": [
    "def get_ic_dark(Ic, shadow_parameters):\n",
    "    # save each parameter independently\n",
    "    w_dark_r, w_dark_g, w_dark_b, b_dark_r, b_dark_g, b_dark_b = shadow_parameters.squeeze().tolist()\n",
    "    \n",
    "    # splic Ic into its composing matrices\n",
    "    Ic_R = Ic[:, :, 0]\n",
    "    Ic_G = Ic[:, :, 1]\n",
    "    Ic_B = Ic[:, :, 2]\n",
    "    \n",
    "    # w_dark * Ic + b_dark\n",
    "    Ic_dark_r = (w_dark_r * Ic_R) + b_dark_r\n",
    "    Ic_dark_g = (w_dark_g * Ic_G) + b_dark_g\n",
    "    Ic_dark_b = (w_dark_b * Ic_B) + b_dark_b\n",
    "    \n",
    "    # Put Ic back together and return\n",
    "    Ic_dark = np.stack([Ic_dark_r, Ic_dark_g, Ic_dark_b], axis=-1)\n",
    "    \n",
    "    return Ic_dark"
   ]
  },
  {
   "cell_type": "code",
   "execution_count": 74,
   "id": "c4a2dfb9",
   "metadata": {
    "scrolled": true
   },
   "outputs": [],
   "source": [
    "ic_dark_path = 'DESOBA_DATASET/Ic_dark'\n",
    "\n",
    "for i, data in enumerate(dataloader, 0): \n",
    "    if i == 1000:\n",
    "        break\n",
    "            \n",
    "    ### fixing input size and shape\n",
    "    object_pair = data[0].permute(1, 2, 0)\n",
    "    original_img, Ic, Mfo, Mbos, Mfo_shadow = input_sectioning(object_pair)\n",
    "    Ic_dark = get_ic_dark(Ic, predicted_shadow_parameters[i])\n",
    "\n",
    "    # save Ic_dark to folder\n",
    "    Ic_dark_normalized = (Ic_dark * 255).astype(np.uint8)\n",
    "    image = Image.fromarray(Ic_dark_normalized)\n",
    "    image.save(f'DESOBA_DATASET/Ic_dark_train/{i:04d}.png')\n",
    "\n",
    "for j, data in enumerate(dataloader_test, 0): \n",
    "    ### fixing input size and shape\n",
    "    object_pair = data[0].permute(1, 2, 0)\n",
    "    original_img, Ic, Mfo, Mbos, Mfo_shadow = input_sectioning(object_pair)\n",
    "    \n",
    "    Ic_dark = get_ic_dark(Ic, predicted_shadow_parameters[i+j])\n",
    "\n",
    "    # save Ic_dark to folder\n",
    "    Ic_dark_normalized = (Ic_dark * 255).astype(np.uint8)\n",
    "    image = Image.fromarray(Ic_dark_normalized)\n",
    "    image.save(f'DESOBA_DATASET/Ic_dark_test/{i:04d}.png')\n",
    "  "
   ]
  },
  {
   "cell_type": "markdown",
   "id": "0f0e5bf3",
   "metadata": {},
   "source": [
    "# Part 6: Shadow Matte (alpha) Generator Gm\n",
    "\n",
    "This generator has an encoder Em and a decoder Dm that have the same architecture as Efs and Ds. Gm is also based off of U-Net architecture except it does not have an Attention layer."
   ]
  },
  {
   "cell_type": "code",
   "execution_count": 68,
   "id": "86ae69fd",
   "metadata": {},
   "outputs": [],
   "source": [
    "# Shared downsampling block\n",
    "class DBlkm(nn.Module):\n",
    "    def __init__(self, in_channels, out_channels):\n",
    "        super().__init__()\n",
    "        self.conv = nn.Conv2d(in_channels, out_channels, kernel_size=3, padding=1)\n",
    "        self.bn = nn.BatchNorm2d(out_channels)\n",
    "        self.relu = nn.ReLU(inplace=True)\n",
    "        self.avg_pool = nn.AvgPool2d(kernel_size=2, stride=2)\n",
    "\n",
    "    def forward(self, x):\n",
    "        x = self.conv(x)\n",
    "        x = self.bn(x)\n",
    "        x = self.relu(x)\n",
    "        x = self.avg_pool(x)\n",
    "        return x\n",
    "\n",
    "# Encoder (parameter sharing)\n",
    "class EncoderM(nn.Module): # Em\n",
    "    def __init__(self):\n",
    "        super().__init__() # input is 256x256x32\n",
    "        # Shared downsampling blocks\n",
    "        self.down_block1 = DBlkm(in_channels=32, out_channels=64)\n",
    "        self.down_block2 = DBlkm(in_channels=64, out_channels=128)\n",
    "        self.down_block3 = DBlkm(in_channels=128, out_channels=256)\n",
    "        self.down_block4 = DBlkm(in_channels=256, out_channels=512)\n",
    "        \n",
    "    def forward(self, x):\n",
    "        skip1 = self.down_block1(x)\n",
    "        skip2 = self.down_block2(skip1)\n",
    "        skip3 = self.down_block3(skip2)\n",
    "        x = self.down_block4(skip3)\n",
    "        \n",
    "        \n",
    "        return x, skip1, skip2, skip3"
   ]
  },
  {
   "cell_type": "code",
   "execution_count": 124,
   "id": "cc2fe272",
   "metadata": {},
   "outputs": [],
   "source": [
    "# Shared upsampling block\n",
    "class UBlk(nn.Module):\n",
    "    def __init__(self, in_channels, out_channels):\n",
    "        super().__init__()\n",
    "        self.up_conv = nn.ConvTranspose2d(in_channels, out_channels, kernel_size=4, stride=2, padding=1)\n",
    "        self.conv = nn.Conv2d(out_channels+out_channels, out_channels, kernel_size=1)\n",
    "        self.bn = nn.BatchNorm2d(out_channels)\n",
    "        self.relu = nn.ReLU(inplace=True)\n",
    "        self.upsample = nn.Upsample(scale_factor=1)\n",
    "\n",
    "    def forward(self, x, skip=None):\n",
    "        x = self.up_conv(x)\n",
    "        \n",
    "        if skip!=None: # is not first layer\n",
    "            \n",
    "            # Calculate the difference in spatial dimensions between x and skip\n",
    "            diff_h = x.size(2) - skip.size(2)\n",
    "            diff_w = x.size(3) - skip.size(3)\n",
    "            # Pad x to match the spatial dimensions of skip\n",
    "            skip = F.pad(skip, (diff_w // 2, diff_w - diff_w // 2, diff_h // 2, diff_h - diff_h // 2))\n",
    "            \n",
    "            x = torch.cat([x,skip], dim=1)\n",
    "            x = self.conv(x) # fix channel dimensions\n",
    "        \n",
    "        x = self.bn(x)\n",
    "        x = self.relu(x)\n",
    "        x = self.upsample(x)\n",
    "        return x\n",
    "\n",
    "# Decoder\n",
    "class DecoderM(nn.Module): # Dm\n",
    "    def __init__(self):\n",
    "        super().__init__() # input is 16×16×512\n",
    "        # Shared upsampling blocks\n",
    "        self.up_block1 = UBlk(in_channels=512, out_channels=512)\n",
    "        self.up_block2 = UBlk(in_channels=512, out_channels=256)\n",
    "        self.up_block3 = UBlk(in_channels=256, out_channels=128)\n",
    "        self.up_block4 = UBlk(in_channels=128, out_channels=64)        \n",
    "        \n",
    "    def forward(self, x, skip1, skip2, skip3):\n",
    "        x = self.up_block1(x)  # No skip connection in the first layer\n",
    "        x = self.up_block2(x, skip3)\n",
    "        x = self.up_block3(x, skip2)\n",
    "        x = self.up_block4(x, skip1) \n",
    "        \n",
    "        return x     "
   ]
  },
  {
   "cell_type": "code",
   "execution_count": 130,
   "id": "bc9ae353",
   "metadata": {},
   "outputs": [],
   "source": [
    "# Generator Gm\n",
    "class Unet(nn.Module):\n",
    "    def __init__(self):\n",
    "        super().__init__()\n",
    "        \n",
    "        # first convolution to set up input\n",
    "        self.conv1 = nn.Conv2d(in_channels=7, out_channels=32, kernel_size=3, padding=1)\n",
    "        \n",
    "        ### Encoder\n",
    "        self.em = EncoderM().to(device)\n",
    "        \n",
    "        ### Decoder\n",
    "        self.dm = DecoderM().to(device)\n",
    "        \n",
    "        # last convolution to finish output\n",
    "        self.conv2 = nn.Conv2d(in_channels=64, out_channels=1, kernel_size=1)\n",
    "    \n",
    "    def forward(self, inputs): \n",
    "        ''' \n",
    "        inputs - concatenation of Ic, Ic_dark and Mfs_predicted. Shape: 1x7x256x256\n",
    "        '''\n",
    "        x = self.conv1(inputs)\n",
    "        \n",
    "        x, skip1, skip2, skip3 = self.em(x) # foreground encoder\n",
    "        x = self.dm(x, skip1, skip2, skip3) # decoder\n",
    "        \n",
    "        output = self.conv2(x) # foreground object shadow mask\n",
    "        \n",
    "        return output\n",
    "        "
   ]
  },
  {
   "cell_type": "code",
   "execution_count": 131,
   "id": "d61be24f",
   "metadata": {},
   "outputs": [
    {
     "name": "stdout",
     "output_type": "stream",
     "text": [
      "torch.Size([1, 1, 256, 256])\n"
     ]
    }
   ],
   "source": [
    "# testing model for output size\n",
    "data = torch.randn((1,7,256,256)).to(device)\n",
    "u = Unet().to(device)\n",
    "out = u(data)\n",
    "print(out.shape)"
   ]
  },
  {
   "cell_type": "code",
   "execution_count": 132,
   "id": "87048a8a",
   "metadata": {},
   "outputs": [
    {
     "data": {
      "text/plain": [
       "Unet(\n",
       "  (conv1): Conv2d(7, 32, kernel_size=(3, 3), stride=(1, 1), padding=(1, 1))\n",
       "  (em): EncoderM(\n",
       "    (down_block1): DBlkm(\n",
       "      (conv): Conv2d(32, 64, kernel_size=(3, 3), stride=(1, 1), padding=(1, 1))\n",
       "      (bn): BatchNorm2d(64, eps=1e-05, momentum=0.1, affine=True, track_running_stats=True)\n",
       "      (relu): ReLU(inplace=True)\n",
       "      (avg_pool): AvgPool2d(kernel_size=2, stride=2, padding=0)\n",
       "    )\n",
       "    (down_block2): DBlkm(\n",
       "      (conv): Conv2d(64, 128, kernel_size=(3, 3), stride=(1, 1), padding=(1, 1))\n",
       "      (bn): BatchNorm2d(128, eps=1e-05, momentum=0.1, affine=True, track_running_stats=True)\n",
       "      (relu): ReLU(inplace=True)\n",
       "      (avg_pool): AvgPool2d(kernel_size=2, stride=2, padding=0)\n",
       "    )\n",
       "    (down_block3): DBlkm(\n",
       "      (conv): Conv2d(128, 256, kernel_size=(3, 3), stride=(1, 1), padding=(1, 1))\n",
       "      (bn): BatchNorm2d(256, eps=1e-05, momentum=0.1, affine=True, track_running_stats=True)\n",
       "      (relu): ReLU(inplace=True)\n",
       "      (avg_pool): AvgPool2d(kernel_size=2, stride=2, padding=0)\n",
       "    )\n",
       "    (down_block4): DBlkm(\n",
       "      (conv): Conv2d(256, 512, kernel_size=(3, 3), stride=(1, 1), padding=(1, 1))\n",
       "      (bn): BatchNorm2d(512, eps=1e-05, momentum=0.1, affine=True, track_running_stats=True)\n",
       "      (relu): ReLU(inplace=True)\n",
       "      (avg_pool): AvgPool2d(kernel_size=2, stride=2, padding=0)\n",
       "    )\n",
       "  )\n",
       "  (dm): DecoderM(\n",
       "    (up_block1): UBlk(\n",
       "      (up_conv): ConvTranspose2d(512, 512, kernel_size=(4, 4), stride=(2, 2), padding=(1, 1))\n",
       "      (conv): Conv2d(1024, 512, kernel_size=(1, 1), stride=(1, 1))\n",
       "      (bn): BatchNorm2d(512, eps=1e-05, momentum=0.1, affine=True, track_running_stats=True)\n",
       "      (relu): ReLU(inplace=True)\n",
       "      (upsample): Upsample(scale_factor=1.0, mode=nearest)\n",
       "    )\n",
       "    (up_block2): UBlk(\n",
       "      (up_conv): ConvTranspose2d(512, 256, kernel_size=(4, 4), stride=(2, 2), padding=(1, 1))\n",
       "      (conv): Conv2d(512, 256, kernel_size=(1, 1), stride=(1, 1))\n",
       "      (bn): BatchNorm2d(256, eps=1e-05, momentum=0.1, affine=True, track_running_stats=True)\n",
       "      (relu): ReLU(inplace=True)\n",
       "      (upsample): Upsample(scale_factor=1.0, mode=nearest)\n",
       "    )\n",
       "    (up_block3): UBlk(\n",
       "      (up_conv): ConvTranspose2d(256, 128, kernel_size=(4, 4), stride=(2, 2), padding=(1, 1))\n",
       "      (conv): Conv2d(256, 128, kernel_size=(1, 1), stride=(1, 1))\n",
       "      (bn): BatchNorm2d(128, eps=1e-05, momentum=0.1, affine=True, track_running_stats=True)\n",
       "      (relu): ReLU(inplace=True)\n",
       "      (upsample): Upsample(scale_factor=1.0, mode=nearest)\n",
       "    )\n",
       "    (up_block4): UBlk(\n",
       "      (up_conv): ConvTranspose2d(128, 64, kernel_size=(4, 4), stride=(2, 2), padding=(1, 1))\n",
       "      (conv): Conv2d(128, 64, kernel_size=(1, 1), stride=(1, 1))\n",
       "      (bn): BatchNorm2d(64, eps=1e-05, momentum=0.1, affine=True, track_running_stats=True)\n",
       "      (relu): ReLU(inplace=True)\n",
       "      (upsample): Upsample(scale_factor=1.0, mode=nearest)\n",
       "    )\n",
       "  )\n",
       "  (conv2): Conv2d(64, 1, kernel_size=(1, 1), stride=(1, 1))\n",
       ")"
      ]
     },
     "execution_count": 132,
     "metadata": {},
     "output_type": "execute_result"
    }
   ],
   "source": [
    "# initializing model\n",
    "Gm = Unet().to(device)\n",
    "Gm.apply(weights_init)"
   ]
  },
  {
   "cell_type": "markdown",
   "id": "15713d75",
   "metadata": {},
   "source": [
    "# Part 7: Train Gm"
   ]
  },
  {
   "cell_type": "markdown",
   "id": "066ce2a2",
   "metadata": {},
   "source": [
    "## Dataloader for Ic_dark"
   ]
  },
  {
   "cell_type": "code",
   "execution_count": 90,
   "id": "a1a966c8",
   "metadata": {},
   "outputs": [
    {
     "name": "stdout",
     "output_type": "stream",
     "text": [
      "Directory 'DESOBA_DATASET/Ic_dark_test/.ipynb_checkpoints' and its contents deleted successfully.\n"
     ]
    }
   ],
   "source": [
    "import shutil\n",
    "directory_to_delete = 'DESOBA_DATASET/Ic_dark_test/.ipynb_checkpoints'\n",
    "if os.path.exists(directory_to_delete):\n",
    "    shutil.rmtree(directory_to_delete)\n",
    "    print(f\"Directory '{directory_to_delete}' and its contents deleted successfully.\")\n",
    "else:\n",
    "    print(f\"Directory '{directory_to_delete}' does not exist.\")"
   ]
  },
  {
   "cell_type": "code",
   "execution_count": 91,
   "id": "32968a1c",
   "metadata": {},
   "outputs": [
    {
     "name": "stdout",
     "output_type": "stream",
     "text": [
      "1000\n",
      "581\n"
     ]
    }
   ],
   "source": [
    "path_Ic_dark_train = 'DESOBA_DATASET/Ic_dark_train'\n",
    "path_Ic_dark_test = 'DESOBA_DATASET/Ic_dark_test'\n",
    "\n",
    "dataset_Ic_dark_train = CustomDataset(path_Ic_dark_train, sort=True, transform=transform)\n",
    "dataset_Ic_dark_test = CustomDataset(path_Ic_dark_test, sort=True, transform=transform)\n",
    "\n",
    "# Create the dataloaders\n",
    "dataloader_Ic_dark_train = torch.utils.data.DataLoader(dataset_Ic_dark_train,\\\n",
    "                                                    batch_size=batch_size, shuffle=False) # mask training image\n",
    "dataloader_Ic_dark_test = torch.utils.data.DataLoader(dataset_Ic_dark_test,\\\n",
    "                                                   batch_size=batch_size, shuffle=False) # mask testing image\n",
    "\n",
    "print(dataloader_Ic_dark_train.__len__())\n",
    "print(dataloader_Ic_dark_test.__len__())"
   ]
  },
  {
   "cell_type": "code",
   "execution_count": 92,
   "id": "765678c6",
   "metadata": {},
   "outputs": [],
   "source": [
    "mask_train_list = list(dataloader_mask_train)\n",
    "mask_test_list = list(dataloader_mask_test)\n",
    "    \n",
    "ic_dark_train_list = list(dataloader_Ic_dark_train)\n",
    "ic_dark_test_list = list(dataloader_Ic_dark_test)"
   ]
  },
  {
   "cell_type": "markdown",
   "id": "98e47149",
   "metadata": {},
   "source": [
    "## Loss Function and Optimizers"
   ]
  },
  {
   "cell_type": "code",
   "execution_count": 133,
   "id": "c256b4a1",
   "metadata": {},
   "outputs": [],
   "source": [
    "# hyperparameters for tuning\n",
    "beta1 = 0.5\n",
    "beta2 = 0.99\n",
    "lr = 0.0002\n",
    "epochs = 1\n",
    "\n",
    "# shadow mask folder\n",
    "alpha_train = 'DESOBA_DATASET/alpha_train'\n",
    "alpha_test = 'DESOBA_DATASET/alpha_test'\n",
    "\n",
    "# Initialize the ``BCELoss`` function\n",
    "loss = nn.BCEWithLogitsLoss()\n",
    "\n",
    "# Setup Adam optimizers\n",
    "optimizer = optim.Adam(Gm.parameters(), lr=lr, betas=(beta1, beta2))"
   ]
  },
  {
   "cell_type": "code",
   "execution_count": 180,
   "id": "612df341",
   "metadata": {},
   "outputs": [],
   "source": [
    "# Training Loop\n",
    "def train_Gm(model, optimizer, dataloader, dataloader_test,\\\n",
    "               ic_dark_train_list, ic_dark_test_list,\\\n",
    "               mask_train_list, mask_test_list, epochs=1, device=device):\n",
    "    model = model.to(device)  # move the model parameters to CPU/GPU\n",
    "    \n",
    "    total_train_steps = len(ic_dark_train_list)\n",
    "    total_test_steps = len(ic_dark_test_list)\n",
    "    \n",
    "    # Start the training cycle\n",
    "    print('Start training...')\n",
    "    \n",
    "    # train loop\n",
    "    for e in range(epochs):\n",
    "        model.train()  # put model to training mode\n",
    "        train_loss = 0.0\n",
    "        \n",
    "        # For each batch in the dataloader\n",
    "        for i, data in enumerate(dataloader, 0):\n",
    "            \n",
    "            if i == 1000: # for efficiency, we will limit to 1k images\n",
    "                break\n",
    "            \n",
    "            ### handling the data concatenation\n",
    "            training_object_pair = data[0].permute(1, 2, 0)\n",
    "            original_image, Ic, Mfo, Mbos, Mfo_shadow = input_sectioning(training_object_pair)\n",
    "            \n",
    "            Mfs_pred = torch.mean(mask_train_list[i], dim=1, keepdim=True)\n",
    "            \n",
    "            Ic_dark = ic_dark_train_list[i]\n",
    "            Ic = Ic.permute(2, 0, 1).unsqueeze(0)\n",
    "            \n",
    "            # concatenate Ic, Ic_dark, and Mfs_predicted\n",
    "            inputs = torch.cat([Ic, Ic_dark, Mfs_pred], dim=1).to(device) # 1x7x256x256\n",
    "            \n",
    "            # run through model\n",
    "            output = model(inputs)\n",
    "            \n",
    "            # Get the 2D shadow mask from the model_output and move it to CPU\n",
    "            alpha_mask = output.squeeze(0).squeeze(0).cpu()\n",
    "            \n",
    "            plt.imshow(alpha_mask.detach().numpy(), cmap='gray')\n",
    "            plt.show()\n",
    "            \n",
    "            if i == 1:\n",
    "                return 0\n",
    "            "
   ]
  },
  {
   "cell_type": "code",
   "execution_count": 181,
   "id": "10852baf",
   "metadata": {},
   "outputs": [
    {
     "name": "stdout",
     "output_type": "stream",
     "text": [
      "Start training...\n"
     ]
    },
    {
     "data": {
      "image/png": "[encoded data removed]",
      "text/plain": [
       "<Figure size 432x288 with 1 Axes>"
      ]
     },
     "metadata": {
      "needs_background": "light"
     },
     "output_type": "display_data"
    },
    {
     "data": {
      "image/png": "[encoded data removed]",
      "text/plain": [
       "<Figure size 432x288 with 1 Axes>"
      ]
     },
     "metadata": {
      "needs_background": "light"
     },
     "output_type": "display_data"
    },
    {
     "data": {
      "text/plain": [
       "0"
      ]
     },
     "execution_count": 181,
     "metadata": {},
     "output_type": "execute_result"
    }
   ],
   "source": [
    "train_Gm(Gm, optimizer, dataloader, dataloader_test,\\\n",
    "         ic_dark_train_list, ic_dark_test_list,\\\n",
    "         mask_train_list, mask_test_list, epochs=1, device=device)"
   ]
  },
  {
   "cell_type": "markdown",
   "id": "7597ac34",
   "metadata": {},
   "source": [
    "# Get ~Ig"
   ]
  },
  {
   "cell_type": "code",
   "execution_count": 143,
   "id": "8ed85d86",
   "metadata": {},
   "outputs": [],
   "source": [
    "mask_train_list = list(dataloader_mask_train)\n",
    "mask_test_list = list(dataloader_mask_test)"
   ]
  },
  {
   "cell_type": "code",
   "execution_count": 164,
   "id": "90fed14e",
   "metadata": {},
   "outputs": [],
   "source": [
    "# get Ig\n",
    "def get_ig(Ic, Ic_dark, mask):\n",
    "    ## reshape\n",
    "    Ic_dark = Ic_dark.permute(1,2,0)\n",
    "    mask = mask.permute(1,2,0)\n",
    "    \n",
    "    \n",
    "    Ig = (Ic * (1-mask)) + (Ic_dark * mask) #eqtn. 7\n",
    "    \n",
    "    return Ig\n",
    "    "
   ]
  },
  {
   "cell_type": "code",
   "execution_count": 169,
   "id": "d63dac22",
   "metadata": {},
   "outputs": [
    {
     "name": "stdout",
     "output_type": "stream",
     "text": [
      "Done!\n"
     ]
    }
   ],
   "source": [
    "ic_dark_path = 'DESOBA_DATASET/~Ig'\n",
    "\n",
    "for i, data in enumerate(dataloader, 0): \n",
    "    if i == 1000:\n",
    "        break\n",
    "            \n",
    "    ### fixing input size and shape\n",
    "    object_pair = data[0].permute(1, 2, 0)\n",
    "    original_img, Ic, Mfo, Mbos, Mfo_shadow = input_sectioning(object_pair)\n",
    "    Ig = get_ig(Ic, ic_dark_train_list[i].squeeze(), mask_train_list[i].squeeze())\n",
    "    \n",
    "    # save Ig to folder\n",
    "    Ig_normalized = (Ig.cpu().detach().numpy() * 255).astype(np.uint8)\n",
    "    image = Image.fromarray(Ig_normalized)\n",
    "    image.save(f'DESOBA_DATASET/~Ig/{i:04d}.png')\n",
    "print('Done!')"
   ]
  },
  {
   "cell_type": "code",
   "execution_count": null,
   "id": "57493f3a",
   "metadata": {},
   "outputs": [],
   "source": []
  }
 ],
 "metadata": {
  "kernelspec": {
   "display_name": "Python 3 (ipykernel)",
   "language": "python",
   "name": "python3"
  },
  "language_info": {
   "codemirror_mode": {
    "name": "ipython",
    "version": 3
   },
   "file_extension": ".py",
   "mimetype": "text/x-python",
   "name": "python",
   "nbconvert_exporter": "python",
   "pygments_lexer": "ipython3",
   "version": "3.9.5"
  }
 },
 "nbformat": 4,
 "nbformat_minor": 5
}
